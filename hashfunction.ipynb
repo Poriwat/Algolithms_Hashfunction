{
  "nbformat": 4,
  "nbformat_minor": 0,
  "metadata": {
    "colab": {
      "provenance": [],
      "include_colab_link": true
    },
    "kernelspec": {
      "name": "python3",
      "display_name": "Python 3"
    },
    "language_info": {
      "name": "python"
    }
  },
  "cells": [
    {
      "cell_type": "markdown",
      "metadata": {
        "id": "view-in-github",
        "colab_type": "text"
      },
      "source": [
        "<a href=\"https://colab.research.google.com/github/Poriwat/Algolithms_Hashfunction/blob/main/hashfunction.ipynb\" target=\"_parent\"><img src=\"https://colab.research.google.com/assets/colab-badge.svg\" alt=\"Open In Colab\"/></a>"
      ]
    },
    {
      "cell_type": "code",
      "source": [],
      "metadata": {
        "id": "Q3G3vX6dDZYF"
      },
      "execution_count": null,
      "outputs": []
    },
    {
      "cell_type": "code",
      "source": [
        "import os\n",
        "from google.colab import files\n"
      ],
      "metadata": {
        "id": "dY9N479MHfn3"
      },
      "execution_count": null,
      "outputs": []
    },
    {
      "cell_type": "code",
      "source": [
        "#Input Plaintext & keyword\n",
        "plaintext = input(\"Plaintext :\").lower()\n",
        "keyword = input(\"Keyword : \").lower()\n",
        "\n",
        "\n",
        "\n",
        "\n",
        "#loop when keyword < plaintext\n",
        "index = 0\n",
        "while len(plaintext) > len(keyword):\n",
        "  keyword =  keyword+keyword[index]\n",
        "  index+=1\n",
        "\n",
        "\n",
        "#convert str to number by ord\n",
        "listkeyword = []\n",
        "for i in keyword:\n",
        "  listkeyword.append(ord(i)-96)\n",
        "\n",
        "listplaintext = []\n",
        "for i in plaintext:\n",
        "  if(i == ' '):\n",
        "    listplaintext.append(i)\n",
        "  else:\n",
        "    listplaintext.append(ord(i)-96)\n",
        "# print(listplaintext)\n",
        "# print(listkeyword)\n",
        "\n",
        "\n",
        "\n",
        "\n",
        "#sum between plaintext & keyword\n",
        "summary = []\n",
        "i = 0\n",
        "for word in listplaintext:\n",
        "  if(word == ' '):\n",
        "    summary.append(word)\n",
        "  else:\n",
        "    summary.append(listkeyword[i]+listplaintext[i])\n",
        "  i+=1\n",
        "# print(summary)\n",
        "\n",
        "\n",
        "\n",
        "#convert summary to str\n",
        "i = 0\n",
        "while i < len(summary):\n",
        "  if(type(summary[i]) == int):\n",
        "    if(summary[i] > 26):\n",
        "      summary[i]-=26\n",
        "  i+=1\n",
        "# print(summary)\n",
        "\n",
        "\n",
        "#reverse list\n",
        "summary.reverse()\n",
        "# print(summary)\n",
        "\n",
        "\n",
        "\n",
        "#convert result int to str\n",
        "cyphertext = []\n",
        "i = 0\n",
        "while i < len(summary):\n",
        "  if(type(summary[i]) == int):\n",
        "    cyphertext.append(chr(int(summary[i])+96))\n",
        "  else:\n",
        "    cyphertext.append(' ')\n",
        "  i+=1\n",
        "# print(cyphertext)\n",
        "\n",
        "converted_list = map(str, cyphertext)\n",
        "result = ''.join(converted_list)\n",
        "\n",
        "print(\"Ciphertext : \"+result)\n",
        "\n",
        "\n",
        "# # creat file txt\n",
        "\n",
        "f = open(\"ciphertext.txt\", \"w\")\n",
        "f.write(result)\n",
        "f.close()\n"
      ],
      "metadata": {
        "id": "m9kln-9kPrac",
        "colab": {
          "base_uri": "https://localhost:8080/"
        },
        "outputId": "8d9fe69d-e5cf-4aab-9833-c03a7e15a227"
      },
      "execution_count": null,
      "outputs": [
        {
          "output_type": "stream",
          "name": "stdout",
          "text": [
            "Plaintext :This is a book\n",
            "Keyword : xyz\n",
            "Ciphertext : jmoa a qi qigr\n"
          ]
        }
      ]
    },
    {
      "cell_type": "code",
      "source": [
        "#input ciphertext from file.txt and input from key\n",
        "f = open(\"ciphertext.txt\", \"r\")\n",
        "ciphertext = f.read().lower()\n",
        "print(\"Ciphertext : \"+ciphertext)\n",
        "keyword_ciphertext = input(\"Keyword : \").lower()\n",
        "\n",
        "\n",
        "#reverce list\n",
        "\n",
        "#loop when keyword < plaintext\n",
        "index = 0\n",
        "index = 0\n",
        "while len(ciphertext) > len(keyword_ciphertext):\n",
        "  keyword_ciphertext =  keyword_ciphertext+keyword_ciphertext[index]\n",
        "  index+=1\n",
        "\n",
        "\n",
        "#convert str to number by ord\n",
        "i = 0\n",
        "listkeyword = []\n",
        "for i in keyword_ciphertext:\n",
        "  listkeyword.append(ord(i)-96)\n",
        "\n",
        "i = 0\n",
        "listciphertext = []\n",
        "for i in ciphertext:\n",
        "  if(i == ' '):\n",
        "    listciphertext.append(i)\n",
        "  else:\n",
        "    listciphertext.append(ord(i)-96)\n",
        "\n",
        "listciphertext.reverse()\n",
        "\n",
        "# print(listkeyword)\n",
        "# print(listciphertext)\n",
        "\n",
        "\n",
        "\n",
        "result = []\n",
        "i = 0\n",
        "for word in listciphertext:\n",
        "  if(word == ' '):\n",
        "    result.append(word)\n",
        "  else:\n",
        "    result.append(listciphertext[i]-listkeyword[i])\n",
        "    if(result[i]< 0):\n",
        "      result[i]+=26\n",
        "  i+=1\n",
        "# print(result)\n",
        "\n",
        "\n",
        "#convert result int to str\n",
        "summary = []\n",
        "i = 0\n",
        "while i < len(result):\n",
        "  if(type(result[i]) == int):\n",
        "    summary.append(chr(int(result[i])+96))\n",
        "  else:\n",
        "     summary.append(' ')\n",
        "  i+=1\n",
        "\n",
        "# convert list to string\n",
        "\n",
        "converted_list = map(str, summary)\n",
        "plaintext = ''.join(converted_list)\n",
        "print(\"Plaintext: \"+plaintext)\n",
        "\n",
        "\n",
        "\n"
      ],
      "metadata": {
        "colab": {
          "base_uri": "https://localhost:8080/"
        },
        "id": "raemeTjMgjuM",
        "outputId": "05347c86-3bec-491f-801d-368aea16568b"
      },
      "execution_count": null,
      "outputs": [
        {
          "output_type": "stream",
          "name": "stdout",
          "text": [
            "Ciphertext : jmoa a qi qigr\n",
            "Keyword : xyz\n",
            "Plaintext: this is a book\n"
          ]
        }
      ]
    }
  ]
}